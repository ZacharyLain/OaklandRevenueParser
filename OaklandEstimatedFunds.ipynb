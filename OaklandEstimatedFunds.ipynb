{
 "cells": [
  {
   "cell_type": "code",
   "execution_count": 6,
   "metadata": {},
   "outputs": [],
   "source": [
    "import pandas as pd\n",
    "\n",
    "total = 0\n",
    "\n",
    "# values gathered from https://oakland.edu/financialservices/costs/tuition-rates/\n",
    "# for simplicity all credits taken are assumed to be taken by residents\n",
    "\n",
    "# College of Arts and Sciences\n",
    "lcas = 507.5\n",
    "ucas = 587.75\n",
    "\n",
    "# School of Education and Human Services\n",
    "lsehs = 507.5\n",
    "usehs = 587.75\n",
    "\n",
    "# School of Business Administration\n",
    "lsba = 529.25\n",
    "usba = 622.25\n",
    "\n",
    "# School of Engineering and Computer Science\n",
    "lsecs = 540.25\n",
    "usecs = 635.75\n",
    "\n",
    "# School of Health Sciences\n",
    "lshs = 522.00\n",
    "ushs = 610.25\n",
    "\n",
    "# School of Nursing\n",
    "lsn = 534.75\n",
    "usn = 627.5\n",
    "\n",
    "# Graduate Tuition\n",
    "gst = 871.5"
   ]
  },
  {
   "cell_type": "code",
   "execution_count": 7,
   "metadata": {},
   "outputs": [
    {
     "data": {
      "text/html": [
       "<div>\n",
       "<style scoped>\n",
       "    .dataframe tbody tr th:only-of-type {\n",
       "        vertical-align: middle;\n",
       "    }\n",
       "\n",
       "    .dataframe tbody tr th {\n",
       "        vertical-align: top;\n",
       "    }\n",
       "\n",
       "    .dataframe thead th {\n",
       "        text-align: right;\n",
       "    }\n",
       "</style>\n",
       "<table border=\"1\" class=\"dataframe\">\n",
       "  <thead>\n",
       "    <tr style=\"text-align: right;\">\n",
       "      <th></th>\n",
       "      <th>Coll. School</th>\n",
       "      <th>Div.</th>\n",
       "      <th>Dept.</th>\n",
       "      <th>Part of Term</th>\n",
       "      <th>Instructor Last Name</th>\n",
       "      <th>Instructor First Name</th>\n",
       "      <th>Subject</th>\n",
       "      <th>Course Number</th>\n",
       "      <th>CRN Key</th>\n",
       "      <th>Campus</th>\n",
       "      <th>INSTRUCTION_FORMAT</th>\n",
       "      <th>Enrolled</th>\n",
       "      <th>Credits</th>\n",
       "      <th>FYES</th>\n",
       "    </tr>\n",
       "  </thead>\n",
       "  <tbody>\n",
       "    <tr>\n",
       "      <th>0</th>\n",
       "      <td>AA</td>\n",
       "      <td>AA</td>\n",
       "      <td>IE</td>\n",
       "      <td>Study Abroad</td>\n",
       "      <td>Zimmerman</td>\n",
       "      <td>Alex</td>\n",
       "      <td>SAB</td>\n",
       "      <td>2010</td>\n",
       "      <td>45734.0</td>\n",
       "      <td>International</td>\n",
       "      <td>Other</td>\n",
       "      <td>1</td>\n",
       "      <td>16</td>\n",
       "      <td>0.533333</td>\n",
       "    </tr>\n",
       "    <tr>\n",
       "      <th>1</th>\n",
       "      <td>AA</td>\n",
       "      <td>AA</td>\n",
       "      <td>IE</td>\n",
       "      <td>Study Abroad</td>\n",
       "      <td>Zimmerman</td>\n",
       "      <td>Alex</td>\n",
       "      <td>SAB</td>\n",
       "      <td>2010</td>\n",
       "      <td>45735.0</td>\n",
       "      <td>International</td>\n",
       "      <td>Other</td>\n",
       "      <td>1</td>\n",
       "      <td>15</td>\n",
       "      <td>0.500000</td>\n",
       "    </tr>\n",
       "    <tr>\n",
       "      <th>2</th>\n",
       "      <td>AA</td>\n",
       "      <td>AA</td>\n",
       "      <td>IE</td>\n",
       "      <td>Study Abroad</td>\n",
       "      <td>Zimmerman</td>\n",
       "      <td>Alex</td>\n",
       "      <td>SAB</td>\n",
       "      <td>2010</td>\n",
       "      <td>45736.0</td>\n",
       "      <td>International</td>\n",
       "      <td>Other</td>\n",
       "      <td>1</td>\n",
       "      <td>15</td>\n",
       "      <td>0.500000</td>\n",
       "    </tr>\n",
       "    <tr>\n",
       "      <th>3</th>\n",
       "      <td>AA</td>\n",
       "      <td>AA</td>\n",
       "      <td>IE</td>\n",
       "      <td>Study Abroad</td>\n",
       "      <td>Zimmerman</td>\n",
       "      <td>Alex</td>\n",
       "      <td>SAB</td>\n",
       "      <td>2010</td>\n",
       "      <td>45737.0</td>\n",
       "      <td>International</td>\n",
       "      <td>Other</td>\n",
       "      <td>1</td>\n",
       "      <td>12</td>\n",
       "      <td>0.400000</td>\n",
       "    </tr>\n",
       "    <tr>\n",
       "      <th>4</th>\n",
       "      <td>AA</td>\n",
       "      <td>AA</td>\n",
       "      <td>IE</td>\n",
       "      <td>Study Abroad</td>\n",
       "      <td>Zimmerman</td>\n",
       "      <td>Alex</td>\n",
       "      <td>SAB</td>\n",
       "      <td>2010</td>\n",
       "      <td>45738.0</td>\n",
       "      <td>International</td>\n",
       "      <td>Other</td>\n",
       "      <td>1</td>\n",
       "      <td>13</td>\n",
       "      <td>0.433333</td>\n",
       "    </tr>\n",
       "  </tbody>\n",
       "</table>\n",
       "</div>"
      ],
      "text/plain": [
       "  Coll. School Div. Dept.  Part of Term Instructor Last Name  \\\n",
       "0           AA   AA    IE  Study Abroad            Zimmerman   \n",
       "1           AA   AA    IE  Study Abroad            Zimmerman   \n",
       "2           AA   AA    IE  Study Abroad            Zimmerman   \n",
       "3           AA   AA    IE  Study Abroad            Zimmerman   \n",
       "4           AA   AA    IE  Study Abroad            Zimmerman   \n",
       "\n",
       "  Instructor First Name Subject Course Number  CRN Key         Campus  \\\n",
       "0                  Alex     SAB          2010  45734.0  International   \n",
       "1                  Alex     SAB          2010  45735.0  International   \n",
       "2                  Alex     SAB          2010  45736.0  International   \n",
       "3                  Alex     SAB          2010  45737.0  International   \n",
       "4                  Alex     SAB          2010  45738.0  International   \n",
       "\n",
       "  INSTRUCTION_FORMAT  Enrolled  Credits      FYES  \n",
       "0              Other         1       16  0.533333  \n",
       "1              Other         1       15  0.500000  \n",
       "2              Other         1       15  0.500000  \n",
       "3              Other         1       12  0.400000  \n",
       "4              Other         1       13  0.433333  "
      ]
     },
     "execution_count": 7,
     "metadata": {},
     "output_type": "execute_result"
    }
   ],
   "source": [
    "# get file path and read file\n",
    "file_path = r'.\\\\\\Fall_2023-Enrollment-Summary_Detail.xlsx'\n",
    "enrollment_data = pd.read_excel(file_path)\n",
    "\n",
    "# output temp to ensure \n",
    "enrollment_data.head()"
   ]
  },
  {
   "cell_type": "code",
   "execution_count": 8,
   "metadata": {},
   "outputs": [
    {
     "name": "stderr",
     "output_type": "stream",
     "text": [
      "C:\\Users\\Zack\\AppData\\Local\\Temp\\ipykernel_33528\\3382964238.py:3: SettingWithCopyWarning: \n",
      "A value is trying to be set on a copy of a slice from a DataFrame.\n",
      "Try using .loc[row_indexer,col_indexer] = value instead\n",
      "\n",
      "See the caveats in the documentation: https://pandas.pydata.org/pandas-docs/stable/user_guide/indexing.html#returning-a-view-versus-a-copy\n",
      "  filtered_data['Course Number'] = filtered_data['Course Number'].astype(str).str.replace(r'\\D', '', regex=True)\n",
      "C:\\Users\\Zack\\AppData\\Local\\Temp\\ipykernel_33528\\3382964238.py:4: SettingWithCopyWarning: \n",
      "A value is trying to be set on a copy of a slice from a DataFrame.\n",
      "Try using .loc[row_indexer,col_indexer] = value instead\n",
      "\n",
      "See the caveats in the documentation: https://pandas.pydata.org/pandas-docs/stable/user_guide/indexing.html#returning-a-view-versus-a-copy\n",
      "  filtered_data['Course Number'] = filtered_data['Course Number'].astype(int)\n"
     ]
    },
    {
     "data": {
      "text/html": [
       "<div>\n",
       "<style scoped>\n",
       "    .dataframe tbody tr th:only-of-type {\n",
       "        vertical-align: middle;\n",
       "    }\n",
       "\n",
       "    .dataframe tbody tr th {\n",
       "        vertical-align: top;\n",
       "    }\n",
       "\n",
       "    .dataframe thead th {\n",
       "        text-align: right;\n",
       "    }\n",
       "</style>\n",
       "<table border=\"1\" class=\"dataframe\">\n",
       "  <thead>\n",
       "    <tr style=\"text-align: right;\">\n",
       "      <th></th>\n",
       "      <th>Coll. School</th>\n",
       "      <th>Div.</th>\n",
       "      <th>Dept.</th>\n",
       "      <th>Part of Term</th>\n",
       "      <th>Instructor Last Name</th>\n",
       "      <th>Instructor First Name</th>\n",
       "      <th>Subject</th>\n",
       "      <th>Course Number</th>\n",
       "      <th>CRN Key</th>\n",
       "      <th>Campus</th>\n",
       "      <th>INSTRUCTION_FORMAT</th>\n",
       "      <th>Enrolled</th>\n",
       "      <th>Credits</th>\n",
       "      <th>FYES</th>\n",
       "    </tr>\n",
       "  </thead>\n",
       "  <tbody>\n",
       "    <tr>\n",
       "      <th>0</th>\n",
       "      <td>AA</td>\n",
       "      <td>AA</td>\n",
       "      <td>IE</td>\n",
       "      <td>Study Abroad</td>\n",
       "      <td>Zimmerman</td>\n",
       "      <td>Alex</td>\n",
       "      <td>SAB</td>\n",
       "      <td>2010</td>\n",
       "      <td>45734.0</td>\n",
       "      <td>International</td>\n",
       "      <td>Other</td>\n",
       "      <td>1</td>\n",
       "      <td>16</td>\n",
       "      <td>0.533333</td>\n",
       "    </tr>\n",
       "    <tr>\n",
       "      <th>1</th>\n",
       "      <td>AA</td>\n",
       "      <td>AA</td>\n",
       "      <td>IE</td>\n",
       "      <td>Study Abroad</td>\n",
       "      <td>Zimmerman</td>\n",
       "      <td>Alex</td>\n",
       "      <td>SAB</td>\n",
       "      <td>2010</td>\n",
       "      <td>45735.0</td>\n",
       "      <td>International</td>\n",
       "      <td>Other</td>\n",
       "      <td>1</td>\n",
       "      <td>15</td>\n",
       "      <td>0.500000</td>\n",
       "    </tr>\n",
       "    <tr>\n",
       "      <th>2</th>\n",
       "      <td>AA</td>\n",
       "      <td>AA</td>\n",
       "      <td>IE</td>\n",
       "      <td>Study Abroad</td>\n",
       "      <td>Zimmerman</td>\n",
       "      <td>Alex</td>\n",
       "      <td>SAB</td>\n",
       "      <td>2010</td>\n",
       "      <td>45736.0</td>\n",
       "      <td>International</td>\n",
       "      <td>Other</td>\n",
       "      <td>1</td>\n",
       "      <td>15</td>\n",
       "      <td>0.500000</td>\n",
       "    </tr>\n",
       "    <tr>\n",
       "      <th>3</th>\n",
       "      <td>AA</td>\n",
       "      <td>AA</td>\n",
       "      <td>IE</td>\n",
       "      <td>Study Abroad</td>\n",
       "      <td>Zimmerman</td>\n",
       "      <td>Alex</td>\n",
       "      <td>SAB</td>\n",
       "      <td>2010</td>\n",
       "      <td>45737.0</td>\n",
       "      <td>International</td>\n",
       "      <td>Other</td>\n",
       "      <td>1</td>\n",
       "      <td>12</td>\n",
       "      <td>0.400000</td>\n",
       "    </tr>\n",
       "    <tr>\n",
       "      <th>4</th>\n",
       "      <td>AA</td>\n",
       "      <td>AA</td>\n",
       "      <td>IE</td>\n",
       "      <td>Study Abroad</td>\n",
       "      <td>Zimmerman</td>\n",
       "      <td>Alex</td>\n",
       "      <td>SAB</td>\n",
       "      <td>2010</td>\n",
       "      <td>45738.0</td>\n",
       "      <td>International</td>\n",
       "      <td>Other</td>\n",
       "      <td>1</td>\n",
       "      <td>13</td>\n",
       "      <td>0.433333</td>\n",
       "    </tr>\n",
       "  </tbody>\n",
       "</table>\n",
       "</div>"
      ],
      "text/plain": [
       "  Coll. School Div. Dept.  Part of Term Instructor Last Name  \\\n",
       "0           AA   AA    IE  Study Abroad            Zimmerman   \n",
       "1           AA   AA    IE  Study Abroad            Zimmerman   \n",
       "2           AA   AA    IE  Study Abroad            Zimmerman   \n",
       "3           AA   AA    IE  Study Abroad            Zimmerman   \n",
       "4           AA   AA    IE  Study Abroad            Zimmerman   \n",
       "\n",
       "  Instructor First Name Subject  Course Number  CRN Key         Campus  \\\n",
       "0                  Alex     SAB           2010  45734.0  International   \n",
       "1                  Alex     SAB           2010  45735.0  International   \n",
       "2                  Alex     SAB           2010  45736.0  International   \n",
       "3                  Alex     SAB           2010  45737.0  International   \n",
       "4                  Alex     SAB           2010  45738.0  International   \n",
       "\n",
       "  INSTRUCTION_FORMAT  Enrolled  Credits      FYES  \n",
       "0              Other         1       16  0.533333  \n",
       "1              Other         1       15  0.500000  \n",
       "2              Other         1       15  0.500000  \n",
       "3              Other         1       12  0.400000  \n",
       "4              Other         1       13  0.433333  "
      ]
     },
     "execution_count": 8,
     "metadata": {},
     "output_type": "execute_result"
    }
   ],
   "source": [
    "# create better dataset\n",
    "filtered_data = enrollment_data.dropna()\n",
    "filtered_data['Course Number'] = filtered_data['Course Number'].astype(str).str.replace(r'\\D', '', regex=True)\n",
    "filtered_data['Course Number'] = filtered_data['Course Number'].astype(int)\n",
    "\n",
    "filtered_data.head()"
   ]
  },
  {
   "cell_type": "code",
   "execution_count": 9,
   "metadata": {},
   "outputs": [
    {
     "data": {
      "text/plain": [
       "51819857.0"
      ]
     },
     "execution_count": 9,
     "metadata": {},
     "output_type": "execute_result"
    }
   ],
   "source": [
    "# get sum of credits for school of arts and sciences\n",
    "lcas_total = filtered_data.loc[(filtered_data['Coll. School'] == 'AS') & (filtered_data['Course Number'] < 3000), 'Credits'].sum() * lcas\n",
    "ucas_total = filtered_data.loc[(filtered_data['Coll. School'] == 'AS') & (filtered_data['Course Number'] >= 3000) & (filtered_data['Course Number'].astype(int) < 5000), 'Credits'].sum() * ucas\n",
    "total = lcas_total + ucas_total\n",
    "total"
   ]
  },
  {
   "cell_type": "code",
   "execution_count": 10,
   "metadata": {},
   "outputs": [
    {
     "data": {
      "text/plain": [
       "67945740.25"
      ]
     },
     "execution_count": 10,
     "metadata": {},
     "output_type": "execute_result"
    }
   ],
   "source": [
    "# get sum of credits for school of business administration\n",
    "lsba_total = filtered_data.loc[(filtered_data['Coll. School'] == 'BA') & (filtered_data['Course Number'] < 3000), 'Credits'].sum() * lsba\n",
    "usba_total = filtered_data.loc[(filtered_data['Coll. School'] == 'BA') & (filtered_data['Course Number'] >= 3000 & (filtered_data['Course Number'].astype(int) < 5000)), 'Credits'].sum() * usba\n",
    "total += lsba_total + usba_total\n",
    "total"
   ]
  },
  {
   "cell_type": "code",
   "execution_count": 11,
   "metadata": {},
   "outputs": [
    {
     "data": {
      "text/plain": [
       "76080079.75"
      ]
     },
     "execution_count": 11,
     "metadata": {},
     "output_type": "execute_result"
    }
   ],
   "source": [
    "# get sum of credits for school of education\n",
    "lsehs_total = filtered_data.loc[(filtered_data['Coll. School'] == 'ED') & (filtered_data['Course Number'] < 3000), 'Credits'].sum() * lsehs\n",
    "usehs_total = filtered_data.loc[(filtered_data['Coll. School'] == 'ED') & (filtered_data['Course Number'] >= 3000 & (filtered_data['Course Number'].astype(int) < 5000)), 'Credits'].sum() * usehs\n",
    "total += lsehs_total + usehs_total\n",
    "total"
   ]
  },
  {
   "cell_type": "code",
   "execution_count": 12,
   "metadata": {},
   "outputs": [
    {
     "data": {
      "text/plain": [
       "91178639.0"
      ]
     },
     "execution_count": 12,
     "metadata": {},
     "output_type": "execute_result"
    }
   ],
   "source": [
    "# get sum of credits for school of engineering\n",
    "lsecs_total = filtered_data.loc[(filtered_data['Coll. School'] == 'EG') & (filtered_data['Course Number'] < 3000), 'Credits'].sum() * lsecs\n",
    "usecs_total = filtered_data.loc[(filtered_data['Coll. School'] == 'EG') & (filtered_data['Course Number'] >= 3000 & (filtered_data['Course Number'].astype(int) < 5000)), 'Credits'].sum() * usecs\n",
    "total += lsecs_total + usecs_total\n",
    "total"
   ]
  },
  {
   "cell_type": "code",
   "execution_count": 13,
   "metadata": {},
   "outputs": [
    {
     "data": {
      "text/plain": [
       "99994403.75"
      ]
     },
     "execution_count": 13,
     "metadata": {},
     "output_type": "execute_result"
    }
   ],
   "source": [
    "# get sum of credits for school of health sciences\n",
    "lshs_total = filtered_data.loc[(filtered_data['Coll. School'] == 'HS') & (filtered_data['Course Number'] < 3000), 'Credits'].sum() * lshs\n",
    "ushs_total = filtered_data.loc[(filtered_data['Coll. School'] == 'HS') & (filtered_data['Course Number'] >= 3000 & (filtered_data['Course Number'].astype(int) < 5000)), 'Credits'].sum() * ushs\n",
    "total += lshs_total + ushs_total\n",
    "total"
   ]
  },
  {
   "cell_type": "code",
   "execution_count": 14,
   "metadata": {},
   "outputs": [
    {
     "data": {
      "text/plain": [
       "114056678.75"
      ]
     },
     "execution_count": 14,
     "metadata": {},
     "output_type": "execute_result"
    }
   ],
   "source": [
    "# get sum of credits for school of nursing\n",
    "lsn_total = filtered_data.loc[(filtered_data['Coll. School'] == 'NR') & (filtered_data['Course Number'] < 3000), 'Credits'].sum() * lsn\n",
    "lsn_total = filtered_data.loc[(filtered_data['Coll. School'] == 'NR') & (filtered_data['Course Number'] >= 3000 & (filtered_data['Course Number'].astype(int) < 5000)), 'Credits'].sum() * usn\n",
    "total += lsn_total + lsn_total\n",
    "total"
   ]
  },
  {
   "cell_type": "code",
   "execution_count": 15,
   "metadata": {},
   "outputs": [
    {
     "data": {
      "text/plain": [
       "130676183.75"
      ]
     },
     "execution_count": 15,
     "metadata": {},
     "output_type": "execute_result"
    }
   ],
   "source": [
    "# get sum of credits for grad school\n",
    "gst_total = filtered_data.loc[(filtered_data['Course Number'] > 5000), 'Credits'].sum() * gst\n",
    "total += gst_total\n",
    "total"
   ]
  }
 ],
 "metadata": {
  "kernelspec": {
   "display_name": "Python 3",
   "language": "python",
   "name": "python3"
  },
  "language_info": {
   "codemirror_mode": {
    "name": "ipython",
    "version": 3
   },
   "file_extension": ".py",
   "mimetype": "text/x-python",
   "name": "python",
   "nbconvert_exporter": "python",
   "pygments_lexer": "ipython3",
   "version": "3.11.9"
  }
 },
 "nbformat": 4,
 "nbformat_minor": 2
}
